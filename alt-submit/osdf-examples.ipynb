{
 "cells": [
  {
   "cell_type": "markdown",
   "id": "0acad401-7ab4-40a1-8550-551b7797243a",
   "metadata": {},
   "source": [
    "# OSDF Examples\n",
    "\n",
    "What if we didn't want to download the data and the software container at the start? Maybe: \n",
    "\n",
    "- the data is big and we don't want to store it locally\n",
    "- we're part of a project and want everyone to be using the same central container\n",
    "\n",
    "It turns out, we can just fetch this data directly from OSDF! "
   ]
  },
  {
   "cell_type": "code",
   "execution_count": null,
   "id": "58f50fd2-bceb-4bf0-a1f8-9317c8b5d51c",
   "metadata": {},
   "outputs": [],
   "source": [
    "cd ~/tutorial-fastqc"
   ]
  },
  {
   "cell_type": "markdown",
   "id": "57c5b139-9e40-48e6-b0f5-8576ef8206e2",
   "metadata": {},
   "source": [
    "## Exploring the Data\n",
    "\n",
    "The data and a sif file are hosted at this OSDF \"bucket\""
   ]
  },
  {
   "cell_type": "code",
   "execution_count": null,
   "id": "cc8cfdf9-36f6-4b55-a74b-ba3f6b424c36",
   "metadata": {},
   "outputs": [],
   "source": [
    "OSDF_LOCATION=\"osdf:///ospool/uc-shared/public/osg-training/tutorial-fastqc\""
   ]
  },
  {
   "cell_type": "markdown",
   "id": "bcd4e9c6-50aa-4d71-a992-01a1f37433fa",
   "metadata": {},
   "source": [
    "We can use the pelican client to view what files are available: "
   ]
  },
  {
   "cell_type": "code",
   "execution_count": null,
   "id": "4a15b06d-81dd-4563-ba83-895ecbb84ea4",
   "metadata": {},
   "outputs": [],
   "source": [
    "pelican object ls ${OSDF_LOCATION}"
   ]
  },
  {
   "cell_type": "code",
   "execution_count": null,
   "id": "4b62541f-7e3c-4d14-a998-5c249f7b82e5",
   "metadata": {},
   "outputs": [],
   "source": [
    "pelican object ls ${OSDF_LOCATION}/data"
   ]
  },
  {
   "cell_type": "code",
   "execution_count": null,
   "id": "9f127435-f949-4afc-a368-9a81aac2ca98",
   "metadata": {},
   "outputs": [],
   "source": [
    "pelican object ls ${OSDF_LOCATION}/sif"
   ]
  },
  {
   "cell_type": "markdown",
   "id": "3469d54a-9813-4c59-b534-9b164781ed08",
   "metadata": {},
   "source": [
    "We could use `pelican object get` to fetch any of the objects to explore them locally, but instead, let's use them in jobs. "
   ]
  },
  {
   "cell_type": "markdown",
   "id": "79f89c22-fd49-4105-9c27-a27cb6dcc2c8",
   "metadata": {},
   "source": [
    "## Using Objects from OSDF in Jobs\n",
    "\n",
    "Using the data and .sif file from OSDF is as simple as adding the OSDF URL to the submit file as shown here: "
   ]
  },
  {
   "cell_type": "code",
   "execution_count": null,
   "id": "3c82c900-bcc6-46b0-aa33-f75a7be98359",
   "metadata": {},
   "outputs": [],
   "source": [
    "cat alt-submit/osdf-fastqc.submit"
   ]
  },
  {
   "cell_type": "markdown",
   "id": "951e6887-a1ba-4f45-b0d1-fc49d46b01da",
   "metadata": {},
   "source": [
    "Note: instead of writing out the whole URL wherever we need it, we're using an intermediate variable, `$(OSDF_LOCATION)`"
   ]
  },
  {
   "cell_type": "code",
   "execution_count": null,
   "id": "f93f9a14-cdf2-4c08-850b-de4d5ee146ff",
   "metadata": {},
   "outputs": [],
   "source": [
    "condor_submit alt-submit/osdf-fastqc.submit"
   ]
  },
  {
   "cell_type": "code",
   "execution_count": null,
   "id": "63c6343c-b393-4ffb-a88d-8d4b485c23ff",
   "metadata": {},
   "outputs": [],
   "source": [
    "condor_q"
   ]
  },
  {
   "cell_type": "markdown",
   "id": "ff902723-1b59-4392-94cd-cbb2fb9e0ec0",
   "metadata": {},
   "source": [
    "## Multiple Jobs\n",
    "\n",
    "To run multiple jobs, we could use Pelican to generate the list of samples: "
   ]
  },
  {
   "cell_type": "code",
   "execution_count": null,
   "id": "00619d98-556b-43e4-b812-26b2c228905d",
   "metadata": {},
   "outputs": [],
   "source": [
    "pelican object ls -L ${OSDF_LOCATION}/data | cut -d '/' -f 8 | cut -d . -f 1 >> alt-submit/samples.txt"
   ]
  },
  {
   "cell_type": "markdown",
   "id": "764ed7cc-419a-477c-9bc2-aa2c5dfec913",
   "metadata": {},
   "source": [
    "And then edit the submit file: \n",
    "* Change the queue statement to iterate through the list of samples: \n",
    "    \n",
    "    `queue sample from alt-submit/samples.txt`\n",
    "* replace all references to a specific sample file with the variable from the queue statement\n",
    "    \n",
    "    `transfer_input_files = $(OSDF_LOCATION)/data/$(sample).trim.sub.fastq`"
   ]
  },
  {
   "cell_type": "code",
   "execution_count": null,
   "id": "8279228e-4329-49e7-9beb-7ff272ef3345",
   "metadata": {},
   "outputs": [],
   "source": []
  }
 ],
 "metadata": {
  "kernelspec": {
   "display_name": "Bash",
   "language": "bash",
   "name": "bash"
  },
  "language_info": {
   "codemirror_mode": "shell",
   "file_extension": ".sh",
   "mimetype": "text/x-sh",
   "name": "bash"
  }
 },
 "nbformat": 4,
 "nbformat_minor": 5
}
